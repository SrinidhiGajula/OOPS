{
  "nbformat": 4,
  "nbformat_minor": 0,
  "metadata": {
    "colab": {
      "provenance": []
    },
    "kernelspec": {
      "name": "python3",
      "display_name": "Python 3"
    },
    "language_info": {
      "name": "python"
    }
  },
  "cells": [
    {
      "cell_type": "code",
      "execution_count": null,
      "metadata": {
        "id": "5Pfmb_4LOjDJ"
      },
      "outputs": [],
      "source": []
    },
    {
      "cell_type": "markdown",
      "source": [
        " 1.What is Object-Oriented Programming (OOP)\n",
        "\n",
        " A:OOPs uses objects and classes to represent real-world entities and their behavior. In OOPs, object has attributes that has specific data and can perform certain actions using methods.\n",
        "\n",
        "2.What is a class in OOP\n",
        "\n",
        "A:A class is a collection of objects, blueprint for creating objects. A class defines a set of attributes and methods that the created objects can have.\n",
        "\n",
        "3.What is an object in OOP\n",
        "\n",
        " A:An Object is an instance of a Class, can access methods of class by implementing class\n",
        "\n",
        " 4.What is the difference between abstraction and encapsulation\n",
        "\n",
        "A:Encapsulation: Wrapping data and methods into a single unit (class),it hides data, Controls access using access modifiers (public/private).\n",
        " Abstraction:\tHiding internal details and showing only essential features, it hides details, Exposes only relevant information\n",
        "\n",
        " 5.What are dunder methods in Python\n",
        "\n",
        " A:Dunder stands for double underscore, methods starting and ending with double underscores '__'. They are defined by built-in classes in Python and commonly used for operator overloading.\n",
        "\n",
        " 6.Explain the concept of inheritance in OOP\n",
        "\n",
        " A: Child class inherits attributes,methods from parent class, this promotes code reuse, modularity,. Includes types-single,multiple,multi-level,hierarchial.\n",
        "\n",
        " 7.What is polymorphism in OOP\n",
        "\n",
        " A:Polymorphism allows entities like functions, methods or operators to behave differently based on the type of data they are handling. Types- Compile time polymorphism(using operator overloading), runtime polymorphism(using operator overriding)\n",
        "\n",
        "8.How is encapsulation achieved in Python\n",
        "\n",
        "A: By use of access modifiers namely public,private,protected that control the visibility of class attributes and methods from outside the class."
      ],
      "metadata": {
        "id": "3fbPdzh4OuCl"
      }
    },
    {
      "cell_type": "markdown",
      "source": [
        "9.What is a constructor in Python\n",
        "\n",
        "A: It is a special method that is automatically called when an instance (object) of a class is created, its primary purpose is to initialize the attributes of the object,is defined using the __init__() method.Types include Default and parameterised constructor.\n",
        "\n",
        "10:What are class and static methods in Python\n",
        "\n",
        "A:They are used to define mehods that are bound to the class rather than its instances.   Class method:It receives the class as an implicit first argument, named cls. This allows the method to access and modify class state that applies across all instances of the class,defined using the @classmethod decorator.  Static method:are used to define utility functions that do not need access to the class or instance state. They are defined using the @staticmethod decorator.\n",
        "\n",
        "11.What is method overloading in Python\n",
        "\n",
        "A:Methods having same name but different parameters.It supports compile time polymorphism.\n",
        "\n",
        "12.What is method overriding in OOP\n",
        "\n",
        "A: Methods having same name and same number of parameters.It supports run time polymorphism.\n",
        "\n",
        "13.What is a property decorator in Python\n",
        "\n",
        "A:It allows to define methods in a class that can be accessed like attributes. It is commonly used to implement getter, setter, and deleter functionality for class attribute.etter: The @property decorator is used to define a method that acts as a getter for an attribute.\n",
        "Setter: The @<property_name>.setter decorator is used to define a method that sets the value of the attribute.\n",
        "Deleter: The @<property_name>.deleter decorator is used to define a method to delete the attribute.\n",
        "\n",
        "14.Why is polymorphism important in OOP\n",
        "\n",
        "A:Code Reusability,extensibility-add new classes with minimal changes to existing code, using the same method name across different classes\n",
        "\n",
        "15.What is an abstract class in Python\n",
        "\n",
        "A:It is a class that cannot be instantiated on its own and is  blueprint for other classes. Abstract classes allow us to define methods that must be implemented by subclasses, from abc.Python provides the abc module to define these.\n",
        "eg:from abc import ABC,abstractmethod, @abstractmethod decorator is used\n",
        "\n",
        "16.What are the advantages of OOP\n",
        "A: Allows code reusability-polymorphism, inheritance, hides complex details- abstraction, provides integrity-encapsulation\n",
        "\n",
        "17.What is multiple inheritance in Python\n",
        "\n",
        "A:In this A child class inherits 2 or more parent classes.\n",
        "\n",
        "18.What is the difference between a class variable and an instance variable\n",
        "\n",
        "A:Class variable is applied to whole class, instance variable is applied to that particular method\n",
        "\n",
        "19.Explain the purpose of ‘’__str__’ and ‘__repr__’ ‘ methods in Python\n",
        "\n",
        "A:They are dunder methods.The __repr__ method is intended to provide a detailed and unambiguous string representation of an object, while __str__ provides a more readable format suitable for end-users. eg:import datetime\n",
        "today = datetime.datetime.now()\n",
        "print(str(today)) # Output: 2023-02-18 18:40:02.160890\n",
        "print(repr(today)) # Output: datetime.datetime(2023, 2, 18, 18, 40, 2, 160890)\n",
        "\n",
        "20.What is the significance of the ‘super()’ function in Python\n",
        "\n",
        "A: he super() function allows you to call methods from a parent in a child  without explicitly naming the parent class, In cases of multiple inheritance, super() ensures that the Method Resolution Order (MRO) is followed.\n",
        "\n",
        "21.What is the significance of the __del__ method in Python\n",
        "\n",
        "A:The __del__ method also known as a destructor, that is called when an object is about to be destroyed.It is automatically called by Python's garbage collector when an object’s reference count drops to zero\n",
        "\n",
        "22.What is the difference between @staticmethod and @classmethod in Python\n",
        "\n",
        "A:Class method-It operates on the class itself rather than an instance of the class,decorator: @classmethod\n",
        "First Parameter- cls (represents the class, not the instance), Used when you need to access or modify the class state.\n",
        "Static method- A method that does not operate on the instance or the class, decorator: @staticmethod\n",
        ".Used for utility functions that are logically related to the class but do not need access to class or instance data.\n",
        "\n",
        "23.How does polymorphism work in Python with inheritance\n",
        "\n",
        "A: Method Overriding- This is the essence of polymorphism.\n",
        "Dynamic Behavior:This makes the code flexible and extensible.\n",
        "Code Reusability: we can write generic code that works with a variety of objects, reducing duplication\n",
        "\n",
        "24.What is method chaining in Python OOP\n",
        "\n",
        "A: Method chaining is a technique where multiple methods are called on the same object in a single statement. This is achieved by having each method return the object itself (self) after performing its operation.\n",
        "class Calculator:\n",
        "    def __init__(self, value=0):\n",
        "        self.value = value\n",
        "    def add(self, num):\n",
        "        self.value += num\n",
        "        return self\n",
        "    def subtract(self, num):\n",
        "        self.value -= num\n",
        "        return self\n",
        "calc = Calculator()\n",
        "result = calc.add(10).subtract(2).result()\n",
        "print(\"Result:\", result)  # Output: Result: 6.0\n",
        "\n",
        "25.What is the purpose of the __call__ method in Python?\n",
        "\n",
        " A: __call__ method is a special method that allows an instance of a class to be called as if it were a function.  When an instance is called, the __call__ method is executed.\n",
        " class Example:\n",
        "def __init__(self):\n",
        "print(\"Instance Created\")\n",
        "def __call__(self):\n",
        "print(\"Instance is called via special method\")\n",
        "e = Example()\n",
        "e()"
      ],
      "metadata": {
        "id": "H3WiFbXgdY-o"
      }
    },
    {
      "cell_type": "code",
      "source": [
        "# 1. Create a parent class Animal with a method speak() that prints a generic message. Create a child class Dog\n",
        "#that overrides the speak() method to print \"Bark!\"\n",
        "class Animal:\n",
        "  def speak():\n",
        "    print(\"Hi\")\n",
        "class Dog(Animal):\n",
        "  def speak():\n",
        "    print(\"Bark!\")\n",
        "obj=Dog\n",
        "obj.speak()"
      ],
      "metadata": {
        "colab": {
          "base_uri": "https://localhost:8080/"
        },
        "id": "NDyIUeZkBfq9",
        "outputId": "ea51b8e2-984e-4180-a14f-d72b8fb52d70"
      },
      "execution_count": 1,
      "outputs": [
        {
          "output_type": "stream",
          "name": "stdout",
          "text": [
            "Bark!\n"
          ]
        }
      ]
    },
    {
      "cell_type": "code",
      "source": [
        "#2. Write a program to create an abstract class Shape with a method area(). Derive classes Circle and Rectangle\n",
        "#from it and implement the area() method in both.\n",
        "from abc import ABC,abstractmethod\n",
        "class Shape(ABC):\n",
        "  @abstractmethod\n",
        "  def area(self):\n",
        "    pass\n",
        "class Circle(Shape):\n",
        "  def area(self, r):\n",
        "    return 2.14*r*r\n",
        "class Rectangle(Shape):\n",
        "  def area(self, l,b):\n",
        "    return l*b\n",
        "o= Circle()\n",
        "print(o.area(7))\n",
        "o2=Rectangle()\n",
        "o2.area(4,3)"
      ],
      "metadata": {
        "colab": {
          "base_uri": "https://localhost:8080/"
        },
        "id": "Rd6iS2f2CDW5",
        "outputId": "e7981de8-ae03-4d63-ab3c-679a6e930d04"
      },
      "execution_count": 8,
      "outputs": [
        {
          "output_type": "stream",
          "name": "stdout",
          "text": [
            "104.86\n"
          ]
        },
        {
          "output_type": "execute_result",
          "data": {
            "text/plain": [
              "12"
            ]
          },
          "metadata": {},
          "execution_count": 8
        }
      ]
    },
    {
      "cell_type": "code",
      "source": [
        "'''3. Implement a multi-level inheritance scenario where a class Vehicle has an attribute type. Derive a class Car\n",
        "and further derive a class ElectricCar that adds a battery attribute.'''\n",
        "\n",
        "class Vehicle:\n",
        "  def type(self):\n",
        "    return \"Vehicle\"\n",
        "class Car(Vehicle):\n",
        "  def type(self):\n",
        "    return \"Car\"\n",
        "class ElectricCar(Car):\n",
        "  def battery(self):\n",
        "    return \"Battery\"\n",
        "obj=ElectricCar()\n",
        "obj.battery()"
      ],
      "metadata": {
        "colab": {
          "base_uri": "https://localhost:8080/",
          "height": 35
        },
        "id": "0AkCyLt9D1PD",
        "outputId": "95b516ba-5fc7-46d2-8b7e-573add1cf2c6"
      },
      "execution_count": 9,
      "outputs": [
        {
          "output_type": "execute_result",
          "data": {
            "text/plain": [
              "'Battery'"
            ],
            "application/vnd.google.colaboratory.intrinsic+json": {
              "type": "string"
            }
          },
          "metadata": {},
          "execution_count": 9
        }
      ]
    },
    {
      "cell_type": "code",
      "source": [
        "'''4. Demonstrate polymorphism by creating a base class Bird with a method fly(). Create two derived classes\n",
        "Sparrow and Penguin that override the fly() method. '''\n",
        "# Python Program to depict multiple inheritance\n",
        "# when method is overridden in both classes\n",
        "\n",
        "class Bird:\n",
        "  def fly(self):\n",
        "    print(\"Bird can fly\")\n",
        "class Sparrow(Bird):\n",
        "  def fly(self):\n",
        "    pass\n",
        "class Penguin(Bird):\n",
        "  def fly(self):\n",
        "    print(\"Penguin can't fly\")\n",
        "\n",
        "o1=Sparrow()\n",
        "o2=Penguin()\n",
        "o1.fly()\n",
        "o2.fly()"
      ],
      "metadata": {
        "colab": {
          "base_uri": "https://localhost:8080/"
        },
        "id": "KoI-W04EEQZH",
        "outputId": "f95ea257-5f66-4fa4-a7a0-a7b81d961525"
      },
      "execution_count": 15,
      "outputs": [
        {
          "output_type": "stream",
          "name": "stdout",
          "text": [
            "None\n",
            "Penguin can't fly\n"
          ]
        }
      ]
    },
    {
      "cell_type": "code",
      "source": [
        "'''5.Write a program to demonstrate encapsulation by creating a class BankAccount with private attributes\n",
        "balance and methods to deposit, withdraw, and check balance.'''\n",
        "\n",
        "class Bank():\n",
        "  def __init__(self,balance):\n",
        "    self.__balance=balance\n",
        "  def deposit(self,amount):\n",
        "    self.__balance+=amount\n",
        "  def withdraw(self,amount):\n",
        "    self.__balance-=amount\n",
        "  def check_balance(self):\n",
        "    return self.__balance\n",
        "\n",
        "o=Bank(2000)\n",
        "o.deposit(1000)"
      ],
      "metadata": {
        "id": "kDtJtTbMPDXC"
      },
      "execution_count": 18,
      "outputs": []
    },
    {
      "cell_type": "code",
      "source": [
        "''' Demonstrate runtime polymorphism using a method play() in a base class Instrument. Derive classes Guitar\n",
        "and Piano that implement their own version of play().'''\n",
        "class Base:\n",
        "  def play(self):\n",
        "    return \"play\"\n",
        "class Guitar(Base):\n",
        "  def play(self):\n",
        "    return \"guitar\"\n",
        "class Piano(Base):\n",
        "  def play(self):\n",
        "    return \"guitar\"\n",
        "\n",
        "o=Guitar()\n",
        "o.play()"
      ],
      "metadata": {
        "colab": {
          "base_uri": "https://localhost:8080/",
          "height": 35
        },
        "id": "wJJBFC1dRaT0",
        "outputId": "6ccd35ac-2502-47b8-be07-1a3e54057cf1"
      },
      "execution_count": 21,
      "outputs": [
        {
          "output_type": "execute_result",
          "data": {
            "text/plain": [
              "'guitar'"
            ],
            "application/vnd.google.colaboratory.intrinsic+json": {
              "type": "string"
            }
          },
          "metadata": {},
          "execution_count": 21
        }
      ]
    },
    {
      "cell_type": "code",
      "source": [
        "'''Create a class MathOperations with a class method add_numbers() to add two numbers and a static\n",
        "method subtract_numbers() to subtract two numbers.'''\n",
        "\n",
        "class MathOperations():\n",
        "  @classmethod\n",
        "  def add_numbers(cls,a,b):\n",
        "    return a+b\n",
        "  @staticmethod\n",
        "  def subtract_numbers(a,b):\n",
        "    return a-b\n",
        "print(MathOperations.add_numbers(1,2))\n",
        "MathOperations.subtract_numbers(1,2)\n"
      ],
      "metadata": {
        "colab": {
          "base_uri": "https://localhost:8080/"
        },
        "id": "O8GPj5vCSctR",
        "outputId": "0feed996-c204-49ee-8969-51860b186226"
      },
      "execution_count": 31,
      "outputs": [
        {
          "output_type": "stream",
          "name": "stdout",
          "text": [
            "3\n"
          ]
        },
        {
          "output_type": "execute_result",
          "data": {
            "text/plain": [
              "-1"
            ]
          },
          "metadata": {},
          "execution_count": 31
        }
      ]
    },
    {
      "cell_type": "code",
      "source": [
        "#Implement a class Person with a class method to count the total number of persons created\n",
        "class Person:\n",
        "    count = 0\n",
        "    def __init__(self, name):\n",
        "        self.name = name\n",
        "        Person.count += 1\n",
        "\n",
        "    @classmethod\n",
        "    def total(cls):\n",
        "        return cls.count\n",
        "\n",
        "p1 = Person(\"Krishn\")\n",
        "p2 = Person(\"Nidhi\")\n",
        "print( Person.total())"
      ],
      "metadata": {
        "colab": {
          "base_uri": "https://localhost:8080/"
        },
        "id": "3bY7pmRiasdh",
        "outputId": "10494a37-f639-4f20-9d16-030e350e6574"
      },
      "execution_count": 35,
      "outputs": [
        {
          "output_type": "stream",
          "name": "stdout",
          "text": [
            "2\n"
          ]
        }
      ]
    },
    {
      "cell_type": "code",
      "source": [
        "#Write a class Fraction with attributes numerator and denominator. Override the str method to display the\n",
        "#fraction as \"numerator/denominator\".\n",
        "class Fraction:\n",
        "  def __init__(self,numerator,denominator):\n",
        "    self.numerator=numerator\n",
        "    self.denominator=denominator\n",
        "  def __str__(self):\n",
        "    return f\"{self.numerator}/{self.denominator}\"\n",
        "\n",
        "o=Fraction(1,2)\n",
        "print(o)\n"
      ],
      "metadata": {
        "colab": {
          "base_uri": "https://localhost:8080/"
        },
        "id": "eLlRNnnHc_oG",
        "outputId": "4c366f98-c865-43f8-f9e0-a7e698ea9e75"
      },
      "execution_count": 58,
      "outputs": [
        {
          "output_type": "stream",
          "name": "stdout",
          "text": [
            "1/2\n"
          ]
        }
      ]
    },
    {
      "cell_type": "code",
      "source": [
        "''' Demonstrate operator overloading by creating a class Vector and overriding the add method to add two\n",
        "vectors.'''\n",
        "\n",
        "class Vector:\n",
        "  def __init__(self,x,y):\n",
        "    self.x=x\n",
        "    self.y=y\n",
        "  def __add__(self,other):\n",
        "    return Vector(self.x+other.x,self.y+other.y)\n",
        "\n",
        "\n",
        "v1=Vector(1,2)\n",
        "v2=Vector(3,4)\n",
        "v3=v1+v2\n",
        "print(v3.x,v3.y)"
      ],
      "metadata": {
        "colab": {
          "base_uri": "https://localhost:8080/"
        },
        "id": "P4iAWzjLikfy",
        "outputId": "d2a6e4d1-424b-4f29-f821-bd9bc121190e"
      },
      "execution_count": 57,
      "outputs": [
        {
          "output_type": "stream",
          "name": "stdout",
          "text": [
            "4 6\n"
          ]
        }
      ]
    },
    {
      "cell_type": "code",
      "source": [
        "''' Create a class Person with attributes name and age. Add a method greet() that prints \"Hello, my name is\n",
        "{name} and I am {age} years old.\"'''\n",
        "\n",
        "class Person:\n",
        "  def __init__(self,name,age):\n",
        "    self.name=name\n",
        "    self.age=age\n",
        "  def greet(self):\n",
        "      print(f\"Hello, my name is {self.name} and I am {self.age} years old.\")\n",
        "\n",
        "o=Person(\"Krishn\",22)\n",
        "o.greet()"
      ],
      "metadata": {
        "colab": {
          "base_uri": "https://localhost:8080/"
        },
        "id": "gfCqmEcsiZte",
        "outputId": "2f7414f7-395b-4b68-ec55-06d11e3f50e1"
      },
      "execution_count": 53,
      "outputs": [
        {
          "output_type": "stream",
          "name": "stdout",
          "text": [
            "Hello, my name is Krishn and I am 22 years old.\n"
          ]
        }
      ]
    },
    {
      "cell_type": "code",
      "source": [
        "''' Implement a class Student with attributes name and grades. Create a method average_grade() to compute\n",
        "the average of the grades.'''\n",
        "\n",
        "class Student:\n",
        "  def __init__(self,name,grades):\n",
        "    self.name=name\n",
        "    self.grades=grades\n",
        "  def average_grade(self):\n",
        "    return sum(self.grades)/len(self.grades)\n",
        "\n",
        "o=Student(\"Krishn\",[10,20,30])\n",
        "o.average_grade()"
      ],
      "metadata": {
        "colab": {
          "base_uri": "https://localhost:8080/"
        },
        "id": "efnkwOQ-iEkf",
        "outputId": "7b723017-40b8-412e-a073-44f5bfb17ebe"
      },
      "execution_count": 52,
      "outputs": [
        {
          "output_type": "execute_result",
          "data": {
            "text/plain": [
              "20.0"
            ]
          },
          "metadata": {},
          "execution_count": 52
        }
      ]
    },
    {
      "cell_type": "code",
      "source": [
        "'''Create a class Rectangle with methods set_dimensions() to set the dimensions and area() to calculate the\n",
        "area.'''\n",
        "class Rectangle:\n",
        "  def set_dimensions(self,l,b):\n",
        "    self.l=l\n",
        "    self.b=b\n",
        "  def area(self):\n",
        "    return self.l*self.b\n",
        "\n",
        "o=Rectangle()\n",
        "o.set_dimensions(10,20)\n",
        "o.area()"
      ],
      "metadata": {
        "colab": {
          "base_uri": "https://localhost:8080/"
        },
        "id": "qlr73utUh4Gh",
        "outputId": "0e5e7d96-2549-4798-cbe4-07ef80b17c31"
      },
      "execution_count": 51,
      "outputs": [
        {
          "output_type": "execute_result",
          "data": {
            "text/plain": [
              "200"
            ]
          },
          "metadata": {},
          "execution_count": 51
        }
      ]
    },
    {
      "cell_type": "code",
      "source": [
        "'''Create a class Employee with a method calculate_salary() that computes the salary based on hours worked\n",
        "and hourly rate. Create a derived class Manager that adds a bonus to the salary'''\n",
        "\n",
        "class Employee:\n",
        "  def __init__(self,hours,rate):\n",
        "    self.hours=hours\n",
        "    self.rate=rate\n",
        "  def calculate_salary(self):\n",
        "    return self.hours*self.rate\n",
        "class Manager(Employee):\n",
        "  def __init__(self,hours,rate,bonus):\n",
        "    super().__init__(hours,rate)\n",
        "    self.bonus=bonus\n",
        "  def calculate_salary(self):\n",
        "    return super().calculate_salary()+self.bonus\n",
        "\n",
        "o=Manager(10,100,1000)\n",
        "o.calculate_salary()\n"
      ],
      "metadata": {
        "colab": {
          "base_uri": "https://localhost:8080/"
        },
        "id": "Z3GRszIRhLim",
        "outputId": "db66cd70-fc2e-4a56-e121-772480c4029e"
      },
      "execution_count": 50,
      "outputs": [
        {
          "output_type": "execute_result",
          "data": {
            "text/plain": [
              "2000"
            ]
          },
          "metadata": {},
          "execution_count": 50
        }
      ]
    },
    {
      "cell_type": "code",
      "source": [
        "'''Create a class Product with attributes name, price, and quantity. Implement a method total_price() that\n",
        "calculates the total price of the product.'''\n",
        "\n",
        "class Product:\n",
        "  def __init__(self,name,price,quantity):\n",
        "    self.name=name\n",
        "    self.price=price\n",
        "    self.quantity=quantity\n",
        "  def total_price(self):\n",
        "    return self.price*self.quantity\n",
        "\n",
        "o=Product(\"abc\",100,2)\n",
        "o.total_price()"
      ],
      "metadata": {
        "colab": {
          "base_uri": "https://localhost:8080/"
        },
        "id": "Guzsey8Xg-6s",
        "outputId": "b34cda6c-73a3-4865-862f-cb1575c0498d"
      },
      "execution_count": 49,
      "outputs": [
        {
          "output_type": "execute_result",
          "data": {
            "text/plain": [
              "200"
            ]
          },
          "metadata": {},
          "execution_count": 49
        }
      ]
    },
    {
      "cell_type": "code",
      "source": [
        "''' Create a class Animal with an abstract method sound(). Create two derived classes Cow and Sheep that\n",
        "implement the sound() method.'''\n",
        "\n",
        "class Animal:\n",
        "  def sound(self):\n",
        "    pass\n",
        "class Cow(Animal):\n",
        "  def sound(self):\n",
        "    return \"Moo\"\n",
        "class Sheep(Animal):\n",
        "  def sound(self):\n",
        "    return \"Baa\"\n",
        "\n",
        "o=Cow()\n",
        "o.sound()"
      ],
      "metadata": {
        "colab": {
          "base_uri": "https://localhost:8080/",
          "height": 35
        },
        "id": "dz7AbbPOgzNn",
        "outputId": "385bb1a5-84a8-45c6-e41f-be913aaadb79"
      },
      "execution_count": 48,
      "outputs": [
        {
          "output_type": "execute_result",
          "data": {
            "text/plain": [
              "'Moo'"
            ],
            "application/vnd.google.colaboratory.intrinsic+json": {
              "type": "string"
            }
          },
          "metadata": {},
          "execution_count": 48
        }
      ]
    },
    {
      "cell_type": "code",
      "source": [
        "''' Create a class Book with attributes title, author, and year_published. Add a method get_book_info() that\n",
        "returns a formatted string with the book's details.'''\n",
        "\n",
        "class Book:\n",
        "  def __init__(self,title,author,year_published):\n",
        "    self.title=title\n",
        "    self.author=author\n",
        "    self.year_published=year_published\n",
        "  def get_book_info(self):\n",
        "    return self.title,self.author,self.year_published\n",
        "\n",
        "b=Book(\"abc\",\"xyz\",2022)\n",
        "b.get_book_info()"
      ],
      "metadata": {
        "colab": {
          "base_uri": "https://localhost:8080/"
        },
        "id": "yXY9tPg3gPPd",
        "outputId": "8fc1c1f7-5ff6-46bc-fa6f-8aeb0b90754d"
      },
      "execution_count": 47,
      "outputs": [
        {
          "output_type": "execute_result",
          "data": {
            "text/plain": [
              "('abc', 'xyz', 2022)"
            ]
          },
          "metadata": {},
          "execution_count": 47
        }
      ]
    },
    {
      "cell_type": "code",
      "source": [
        "#18.Create a class House with attributes address and price. Create a derived class Mansion that adds an\n",
        "#attribute number_of_rooms.\n",
        "class House:\n",
        "  def __init__(self,address,price):\n",
        "    self.address=address\n",
        "    self.price=price\n",
        "  def display(self):\n",
        "    return self.address, self.price\n",
        "class Mansion(House):\n",
        "  def __init__(self,address,price,number_of_rooms):\n",
        "    super().__init__(address,price)\n",
        "    self.number_of_rooms=number_of_rooms\n",
        "    super().display()\n",
        "    print(self.number_of_rooms)\n",
        "\n",
        "o=Mansion(\"hyd\",10000,3)\n",
        "o.display()"
      ],
      "metadata": {
        "colab": {
          "base_uri": "https://localhost:8080/"
        },
        "id": "jpD4bnyJdIpr",
        "outputId": "f3c3055e-6015-4598-9095-642095ec3513"
      },
      "execution_count": 44,
      "outputs": [
        {
          "output_type": "stream",
          "name": "stdout",
          "text": [
            "3\n"
          ]
        },
        {
          "output_type": "execute_result",
          "data": {
            "text/plain": [
              "('hyd', 10000)"
            ]
          },
          "metadata": {},
          "execution_count": 44
        }
      ]
    }
  ]
}